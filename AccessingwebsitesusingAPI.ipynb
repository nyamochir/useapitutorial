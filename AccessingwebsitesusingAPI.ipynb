{
 "cells": [
  {
   "cell_type": "code",
   "execution_count": 15,
   "metadata": {},
   "outputs": [],
   "source": [
    "# This notebook is created by NYAM-OCHIR BOLD \n",
    "# clear intend to an educational purposes\n",
    "# thank you for checking out\n",
    "#price\n",
    "# libraries to import \n",
    "import requests\n",
    "from bs4 import BeautifulSoup\n",
    "import pandas as pd\n",
    "import numpy as np\n",
    "import matplotlib.pyplot as plt\n",
    "# then also obtain the api key\n",
    "# this will not work any given website that you want to work with but\n",
    "# the general process will be similar for every website ...\n",
    "import json\n",
    "\n",
    "ccapi = \"enter you key here for example I was using cryptocompare apikey to access the website\"\n",
    "\n"
   ]
  },
  {
   "cell_type": "code",
   "execution_count": 2,
   "metadata": {},
   "outputs": [],
   "source": [
    "def current_price(name, ccapi):\n",
    "    '''\n",
    "    This function will return the live price of the certain coin named : name variable\n",
    "    return price dictionary \n",
    "    ccapi -- is the apikey to permission to access the cryptocompare website\n",
    "    '''\n",
    "    \n",
    "    url = 'https://min-api.cryptocompare.com/data/price?'\n",
    "    params = params = {'fsym':name, 'tsyms':'USD', 'key': ccapi}\n",
    "    \n",
    "    response = requests.get(url, params)\n",
    "    if response.status_code == 200:# you can also use exception concept in python\n",
    "        print('Success')\n",
    "    else:\n",
    "        print('Check again')\n",
    "        return \n",
    "    content = BeautifulSoup(response.content, 'lxml')\n",
    "    price = json.loads(content.get_text())\n",
    "    return price\n",
    "    "
   ]
  },
  {
   "cell_type": "code",
   "execution_count": 3,
   "metadata": {},
   "outputs": [],
   "source": [
    "def gethistoricalprice(name, key, limit = 1000):\n",
    "    '''\n",
    "    name is cryptocurrency name\n",
    "    This part will get some historical price of the coin that you want to analyze or work with ..\n",
    "    key is  apikey for the website to access\n",
    "    '''\n",
    "    \n",
    "    params = {'fsym':name, 'tsym':'USD', 'limit':limit, 'key':key}# can change the limit value default is 1000\n",
    "    url = 'https://min-api.cryptocompare.com/data/v2/histoday?'\n",
    "    \n",
    "    response = requests.get(url, params)\n",
    "    if response.status_code == 200:\n",
    "        print(\"Successful Load\")\n",
    "    else:\n",
    "        print('Check Parameters and urls variables even internet connection')\n",
    "        return 0\n",
    "    page = BeautifulSoup(response.content, 'lxml')\n",
    "    prices = json.loads(page.get_text())\n",
    "    \n",
    "    return prices"
   ]
  },
  {
   "cell_type": "code",
   "execution_count": 7,
   "metadata": {},
   "outputs": [
    {
     "name": "stdout",
     "output_type": "stream",
     "text": [
      "Successful Load\n"
     ]
    }
   ],
   "source": [
    "btc = gethistoricalprice('BTC', ccapi)"
   ]
  },
  {
   "cell_type": "code",
   "execution_count": 8,
   "metadata": {},
   "outputs": [],
   "source": [
    "# study returned dictionary and make it proper stucture to analyze\n",
    "btcdf = pd.DataFrame(data = btc['Data']['Data'])\n"
   ]
  },
  {
   "cell_type": "code",
   "execution_count": 13,
   "metadata": {},
   "outputs": [
    {
     "data": {
      "image/png": "[encoded data removed]",
      "text/plain": [
       "<Figure size 432x288 with 1 Axes>"
      ]
     },
     "metadata": {
      "needs_background": "light"
     },
     "output_type": "display_data"
    }
   ],
   "source": [
    "# can see this plotting\n",
    "btcdf['close'].plot()\n",
    "plt.show()"
   ]
  },
  {
   "cell_type": "code",
   "execution_count": 12,
   "metadata": {},
   "outputs": [
    {
     "data": {
      "text/html": [
       "<div>\n",
       "<style scoped>\n",
       "    .dataframe tbody tr th:only-of-type {\n",
       "        vertical-align: middle;\n",
       "    }\n",
       "\n",
       "    .dataframe tbody tr th {\n",
       "        vertical-align: top;\n",
       "    }\n",
       "\n",
       "    .dataframe thead th {\n",
       "        text-align: right;\n",
       "    }\n",
       "</style>\n",
       "<table border=\"1\" class=\"dataframe\">\n",
       "  <thead>\n",
       "    <tr style=\"text-align: right;\">\n",
       "      <th></th>\n",
       "      <th>close</th>\n",
       "      <th>conversionSymbol</th>\n",
       "      <th>conversionType</th>\n",
       "      <th>high</th>\n",
       "      <th>low</th>\n",
       "      <th>open</th>\n",
       "      <th>time</th>\n",
       "      <th>volumefrom</th>\n",
       "      <th>volumeto</th>\n",
       "    </tr>\n",
       "  </thead>\n",
       "  <tbody>\n",
       "    <tr>\n",
       "      <th>991</th>\n",
       "      <td>8014.39</td>\n",
       "      <td></td>\n",
       "      <td>direct</td>\n",
       "      <td>8193.41</td>\n",
       "      <td>7945.77</td>\n",
       "      <td>8173.48</td>\n",
       "      <td>1571184000</td>\n",
       "      <td>34102.92</td>\n",
       "      <td>2.746703e+08</td>\n",
       "    </tr>\n",
       "    <tr>\n",
       "      <th>992</th>\n",
       "      <td>8082.46</td>\n",
       "      <td></td>\n",
       "      <td>direct</td>\n",
       "      <td>8145.50</td>\n",
       "      <td>7948.95</td>\n",
       "      <td>8014.39</td>\n",
       "      <td>1571270400</td>\n",
       "      <td>21657.02</td>\n",
       "      <td>1.751729e+08</td>\n",
       "    </tr>\n",
       "    <tr>\n",
       "      <th>993</th>\n",
       "      <td>7972.62</td>\n",
       "      <td></td>\n",
       "      <td>direct</td>\n",
       "      <td>8157.36</td>\n",
       "      <td>7850.66</td>\n",
       "      <td>8082.46</td>\n",
       "      <td>1571356800</td>\n",
       "      <td>27732.54</td>\n",
       "      <td>2.210659e+08</td>\n",
       "    </tr>\n",
       "    <tr>\n",
       "      <th>994</th>\n",
       "      <td>7973.63</td>\n",
       "      <td></td>\n",
       "      <td>direct</td>\n",
       "      <td>8108.69</td>\n",
       "      <td>7919.05</td>\n",
       "      <td>7972.62</td>\n",
       "      <td>1571443200</td>\n",
       "      <td>17875.39</td>\n",
       "      <td>1.432024e+08</td>\n",
       "    </tr>\n",
       "    <tr>\n",
       "      <th>995</th>\n",
       "      <td>8247.25</td>\n",
       "      <td></td>\n",
       "      <td>direct</td>\n",
       "      <td>8326.13</td>\n",
       "      <td>7911.49</td>\n",
       "      <td>7973.63</td>\n",
       "      <td>1571529600</td>\n",
       "      <td>25287.68</td>\n",
       "      <td>2.053943e+08</td>\n",
       "    </tr>\n",
       "    <tr>\n",
       "      <th>996</th>\n",
       "      <td>8223.25</td>\n",
       "      <td></td>\n",
       "      <td>direct</td>\n",
       "      <td>8359.52</td>\n",
       "      <td>8177.11</td>\n",
       "      <td>8247.25</td>\n",
       "      <td>1571616000</td>\n",
       "      <td>22831.65</td>\n",
       "      <td>1.885115e+08</td>\n",
       "    </tr>\n",
       "    <tr>\n",
       "      <th>997</th>\n",
       "      <td>8034.50</td>\n",
       "      <td></td>\n",
       "      <td>direct</td>\n",
       "      <td>8318.41</td>\n",
       "      <td>8021.36</td>\n",
       "      <td>8223.25</td>\n",
       "      <td>1571702400</td>\n",
       "      <td>24453.79</td>\n",
       "      <td>2.005939e+08</td>\n",
       "    </tr>\n",
       "    <tr>\n",
       "      <th>998</th>\n",
       "      <td>7479.54</td>\n",
       "      <td></td>\n",
       "      <td>direct</td>\n",
       "      <td>8071.80</td>\n",
       "      <td>7336.06</td>\n",
       "      <td>8034.50</td>\n",
       "      <td>1571788800</td>\n",
       "      <td>60122.39</td>\n",
       "      <td>4.576725e+08</td>\n",
       "    </tr>\n",
       "    <tr>\n",
       "      <th>999</th>\n",
       "      <td>7444.20</td>\n",
       "      <td></td>\n",
       "      <td>direct</td>\n",
       "      <td>7524.31</td>\n",
       "      <td>7370.13</td>\n",
       "      <td>7479.54</td>\n",
       "      <td>1571875200</td>\n",
       "      <td>28580.18</td>\n",
       "      <td>2.136631e+08</td>\n",
       "    </tr>\n",
       "    <tr>\n",
       "      <th>1000</th>\n",
       "      <td>8530.63</td>\n",
       "      <td></td>\n",
       "      <td>direct</td>\n",
       "      <td>8574.88</td>\n",
       "      <td>7431.20</td>\n",
       "      <td>7444.20</td>\n",
       "      <td>1571961600</td>\n",
       "      <td>48336.70</td>\n",
       "      <td>3.854373e+08</td>\n",
       "    </tr>\n",
       "  </tbody>\n",
       "</table>\n",
       "</div>"
      ],
      "text/plain": [
       "        close conversionSymbol conversionType     high      low     open  \\\n",
       "991   8014.39                          direct  8193.41  7945.77  8173.48   \n",
       "992   8082.46                          direct  8145.50  7948.95  8014.39   \n",
       "993   7972.62                          direct  8157.36  7850.66  8082.46   \n",
       "994   7973.63                          direct  8108.69  7919.05  7972.62   \n",
       "995   8247.25                          direct  8326.13  7911.49  7973.63   \n",
       "996   8223.25                          direct  8359.52  8177.11  8247.25   \n",
       "997   8034.50                          direct  8318.41  8021.36  8223.25   \n",
       "998   7479.54                          direct  8071.80  7336.06  8034.50   \n",
       "999   7444.20                          direct  7524.31  7370.13  7479.54   \n",
       "1000  8530.63                          direct  8574.88  7431.20  7444.20   \n",
       "\n",
       "            time  volumefrom      volumeto  \n",
       "991   1571184000    34102.92  2.746703e+08  \n",
       "992   1571270400    21657.02  1.751729e+08  \n",
       "993   1571356800    27732.54  2.210659e+08  \n",
       "994   1571443200    17875.39  1.432024e+08  \n",
       "995   1571529600    25287.68  2.053943e+08  \n",
       "996   1571616000    22831.65  1.885115e+08  \n",
       "997   1571702400    24453.79  2.005939e+08  \n",
       "998   1571788800    60122.39  4.576725e+08  \n",
       "999   1571875200    28580.18  2.136631e+08  \n",
       "1000  1571961600    48336.70  3.854373e+08  "
      ]
     },
     "execution_count": 12,
     "metadata": {},
     "output_type": "execute_result"
    }
   ],
   "source": [
    "btcdf.tail(10)\n",
    "# from here you can do further analysis for your data that you have just scraped."
   ]
  },
  {
   "cell_type": "code",
   "execution_count": 14,
   "metadata": {},
   "outputs": [],
   "source": [
    "#also you can plot continouos live graph with frequently loading live data -- "
   ]
  },
  {
   "cell_type": "code",
   "execution_count": null,
   "metadata": {},
   "outputs": [],
   "source": [
    "# stable internet connection and enough access permission is required to have\n",
    "# thank you, see you on next notebook"
   ]
  }
 ],
 "metadata": {
  "kernelspec": {
   "display_name": "Python 3",
   "language": "python",
   "name": "python3"
  },
  "language_info": {
   "codemirror_mode": {
    "name": "ipython",
    "version": 3
   },
   "file_extension": ".py",
   "mimetype": "text/x-python",
   "name": "python",
   "nbconvert_exporter": "python",
   "pygments_lexer": "ipython3",
   "version": "3.7.3"
  }
 },
 "nbformat": 4,
 "nbformat_minor": 2
}
